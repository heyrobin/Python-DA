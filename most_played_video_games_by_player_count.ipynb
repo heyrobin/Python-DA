{
  "nbformat": 4,
  "nbformat_minor": 0,
  "metadata": {
    "colab": {
      "name": "most-played video games by player count.ipynb",
      "provenance": [],
      "collapsed_sections": [],
      "authorship_tag": "ABX9TyPqMM4yrU2Fy6XcdIUDuqoP",
      "include_colab_link": true
    },
    "kernelspec": {
      "name": "python3",
      "display_name": "Python 3"
    },
    "language_info": {
      "name": "python"
    }
  },
  "cells": [
    {
      "cell_type": "markdown",
      "metadata": {
        "id": "view-in-github",
        "colab_type": "text"
      },
      "source": [
        "<a href=\"https://colab.research.google.com/github/heyrobin/Python-DA/blob/main/most_played_video_games_by_player_count.ipynb\" target=\"_parent\"><img src=\"https://colab.research.google.com/assets/colab-badge.svg\" alt=\"Open In Colab\"/></a>"
      ]
    },
    {
      "cell_type": "code",
      "metadata": {
        "id": "0B3eHcnolkhx"
      },
      "source": [
        "#installing dependencies\n",
        "import pandas as pd\n",
        "from bs4 import BeautifulSoup\n",
        "import requests"
      ],
      "execution_count": null,
      "outputs": []
    },
    {
      "cell_type": "code",
      "metadata": {
        "colab": {
          "base_uri": "https://localhost:8080/"
        },
        "id": "NlUOrLKClzBe",
        "outputId": "6cfe87e6-8895-44fe-edab-2963f2712a25"
      },
      "source": [
        "url = 'https://en.wikipedia.org/wiki/List_of_most-played_video_games_by_player_count'\n",
        "response = requests.get(url)\n",
        "soup = BeautifulSoup(response.content, \"lxml\")\n",
        "print(soup.prettify()[:1000])"
      ],
      "execution_count": null,
      "outputs": [
        {
          "output_type": "stream",
          "text": [
            "<!DOCTYPE html>\n",
            "<html class=\"client-nojs\" dir=\"ltr\" lang=\"en\">\n",
            " <head>\n",
            "  <meta charset=\"utf-8\"/>\n",
            "  <title>\n",
            "   List of most-played video games by player count - Wikipedia\n",
            "  </title>\n",
            "  <script>\n",
            "   document.documentElement.className=\"client-js\";RLCONF={\"wgBreakFrames\":!1,\"wgSeparatorTransformTable\":[\"\",\"\"],\"wgDigitTransformTable\":[\"\",\"\"],\"wgDefaultDateFormat\":\"dmy\",\"wgMonthNames\":[\"\",\"January\",\"February\",\"March\",\"April\",\"May\",\"June\",\"July\",\"August\",\"September\",\"October\",\"November\",\"December\"],\"wgRequestId\":\"b7138eb2-31e9-426f-8198-9628a28dc352\",\"wgCSPNonce\":!1,\"wgCanonicalNamespace\":\"\",\"wgCanonicalSpecialPageName\":!1,\"wgNamespaceNumber\":0,\"wgPageName\":\"List_of_most-played_video_games_by_player_count\",\"wgTitle\":\"List of most-played video games by player count\",\"wgCurRevisionId\":1029696317,\"wgRevisionId\":1029696317,\"wgArticleId\":58535540,\"wgIsArticle\":!0,\"wgIsRedirect\":!1,\"wgAction\":\"view\",\"wgUserName\":null,\"wgUserGroups\":[\"*\"],\"wgCategories\":[\"Articles containing potentially dated statemen\n"
          ],
          "name": "stdout"
        }
      ]
    },
    {
      "cell_type": "code",
      "metadata": {
        "colab": {
          "base_uri": "https://localhost:8080/",
          "height": 35
        },
        "id": "0j-MO5dkmFzf",
        "outputId": "9592019f-701e-4d41-b067-8fc63422280a"
      },
      "source": [
        "soup.title.string"
      ],
      "execution_count": null,
      "outputs": [
        {
          "output_type": "execute_result",
          "data": {
            "application/vnd.google.colaboratory.intrinsic+json": {
              "type": "string"
            },
            "text/plain": [
              "'List of most-played video games by player count - Wikipedia'"
            ]
          },
          "metadata": {
            "tags": []
          },
          "execution_count": 16
        }
      ]
    },
    {
      "cell_type": "code",
      "metadata": {
        "id": "33bnFVhznK-v"
      },
      "source": [
        "Games = soup.find_all('table', class_= \"wikitable\")\n",
        "Games"
      ],
      "execution_count": null,
      "outputs": []
    },
    {
      "cell_type": "code",
      "metadata": {
        "id": "qZ5nBbR1njg_"
      },
      "source": [
        "Sample = Games[0].text.split('\\n')\n",
        "Sample"
      ],
      "execution_count": null,
      "outputs": []
    },
    {
      "cell_type": "code",
      "metadata": {
        "id": "I2KZbSuGoBCv"
      },
      "source": [
        "Data = []\n",
        "\n",
        "for row in Games[0].find_all('tr'):\n",
        "  columns = row.find_all(['td','th'])\n",
        "  Game = columns[0].text.strip('\\n')\n",
        "  Number = columns[1].text.strip('\\n')\n",
        "  As_of = columns[2].text.strip('\\n')\n",
        "  Business_model = columns[3].text.strip('\\n')\n",
        "  Release_Date = columns[4].text.strip('\\n')\n",
        "  Publisher = columns[5].text.strip('\\n')\n",
        "  #print(Game,Number,As_of,Business_model,Release_Date,Publisher)\n",
        "  Data.append((Game,Number,As_of,Business_model,Release_Date,Publisher))"
      ],
      "execution_count": null,
      "outputs": []
    },
    {
      "cell_type": "code",
      "metadata": {
        "id": "IsOnFZ7_pFyP"
      },
      "source": [
        "Data"
      ],
      "execution_count": null,
      "outputs": []
    },
    {
      "cell_type": "code",
      "metadata": {
        "id": "GS1kRa5YqOOP"
      },
      "source": [
        "Df = pd.DataFrame(Data)"
      ],
      "execution_count": null,
      "outputs": []
    },
    {
      "cell_type": "code",
      "metadata": {
        "colab": {
          "base_uri": "https://localhost:8080/",
          "height": 419
        },
        "id": "bgsfIItwqekH",
        "outputId": "6d18c55b-e4d6-4714-bebe-174a69f200ca"
      },
      "source": [
        "Df"
      ],
      "execution_count": null,
      "outputs": [
        {
          "output_type": "execute_result",
          "data": {
            "text/html": [
              "<div>\n",
              "<style scoped>\n",
              "    .dataframe tbody tr th:only-of-type {\n",
              "        vertical-align: middle;\n",
              "    }\n",
              "\n",
              "    .dataframe tbody tr th {\n",
              "        vertical-align: top;\n",
              "    }\n",
              "\n",
              "    .dataframe thead th {\n",
              "        text-align: right;\n",
              "    }\n",
              "</style>\n",
              "<table border=\"1\" class=\"dataframe\">\n",
              "  <thead>\n",
              "    <tr style=\"text-align: right;\">\n",
              "      <th></th>\n",
              "      <th>0</th>\n",
              "      <th>1</th>\n",
              "      <th>2</th>\n",
              "      <th>3</th>\n",
              "      <th>4</th>\n",
              "      <th>5</th>\n",
              "    </tr>\n",
              "  </thead>\n",
              "  <tbody>\n",
              "    <tr>\n",
              "      <th>0</th>\n",
              "      <td>Game</td>\n",
              "      <td>Number</td>\n",
              "      <td>As of</td>\n",
              "      <td>Business model</td>\n",
              "      <td>Release date</td>\n",
              "      <td>Publisher(s)</td>\n",
              "    </tr>\n",
              "    <tr>\n",
              "      <th>1</th>\n",
              "      <td>PlayerUnknown's Battlegrounds</td>\n",
              "      <td>1,037 million[a]</td>\n",
              "      <td>March 2021</td>\n",
              "      <td>Pay-to-play/free-to-play</td>\n",
              "      <td>December 20, 2017</td>\n",
              "      <td>Krafton / Tencent</td>\n",
              "    </tr>\n",
              "    <tr>\n",
              "      <th>2</th>\n",
              "      <td>CrossFire</td>\n",
              "      <td>1,000 million</td>\n",
              "      <td>February 2020</td>\n",
              "      <td>Free-to-play</td>\n",
              "      <td>May 3, 2007</td>\n",
              "      <td>Smilegate / Tencent</td>\n",
              "    </tr>\n",
              "    <tr>\n",
              "      <th>3</th>\n",
              "      <td>Dungeon Fighter Online</td>\n",
              "      <td>700 million</td>\n",
              "      <td>May 2020</td>\n",
              "      <td>Free-to-play</td>\n",
              "      <td>August 2005</td>\n",
              "      <td>Nexon / Tencent</td>\n",
              "    </tr>\n",
              "    <tr>\n",
              "      <th>4</th>\n",
              "      <td>QQ Speed / GKART / Speed Drifters</td>\n",
              "      <td>700 million[a]</td>\n",
              "      <td>January 2020</td>\n",
              "      <td>Free-to-play</td>\n",
              "      <td>January 23, 2008</td>\n",
              "      <td>Tencent / Garena</td>\n",
              "    </tr>\n",
              "    <tr>\n",
              "      <th>...</th>\n",
              "      <td>...</td>\n",
              "      <td>...</td>\n",
              "      <td>...</td>\n",
              "      <td>...</td>\n",
              "      <td>...</td>\n",
              "      <td>...</td>\n",
              "    </tr>\n",
              "    <tr>\n",
              "      <th>95</th>\n",
              "      <td>Free Realms</td>\n",
              "      <td>10 million registered accounts</td>\n",
              "      <td>April 2018</td>\n",
              "      <td>Free-to-play</td>\n",
              "      <td>April 28, 2009</td>\n",
              "      <td>Sony Online Entertainment</td>\n",
              "    </tr>\n",
              "    <tr>\n",
              "      <th>96</th>\n",
              "      <td>H1Z1</td>\n",
              "      <td>10 million</td>\n",
              "      <td>June 2018</td>\n",
              "      <td>Free-to-play</td>\n",
              "      <td>February 28, 2018</td>\n",
              "      <td>Daybreak Game Company</td>\n",
              "    </tr>\n",
              "    <tr>\n",
              "      <th>97</th>\n",
              "      <td>Robocraft</td>\n",
              "      <td>10 million owners on Steam[k]</td>\n",
              "      <td>July 2018</td>\n",
              "      <td>Free-to-play</td>\n",
              "      <td>August 24, 2017</td>\n",
              "      <td>Freejam Games</td>\n",
              "    </tr>\n",
              "    <tr>\n",
              "      <th>98</th>\n",
              "      <td>Ark: Survival Evolved</td>\n",
              "      <td>10 million[a]</td>\n",
              "      <td>November 2017</td>\n",
              "      <td>Pay-to-play</td>\n",
              "      <td>August 29, 2017</td>\n",
              "      <td>Studio Wildcard</td>\n",
              "    </tr>\n",
              "    <tr>\n",
              "      <th>99</th>\n",
              "      <td>Star Wars Jedi: Fallen Order</td>\n",
              "      <td>10 million</td>\n",
              "      <td>May 2020</td>\n",
              "      <td>Pay-to-play</td>\n",
              "      <td>November 15, 2019</td>\n",
              "      <td>Electronic Arts</td>\n",
              "    </tr>\n",
              "  </tbody>\n",
              "</table>\n",
              "<p>100 rows × 6 columns</p>\n",
              "</div>"
            ],
            "text/plain": [
              "                                    0  ...                          5\n",
              "0                                Game  ...               Publisher(s)\n",
              "1       PlayerUnknown's Battlegrounds  ...          Krafton / Tencent\n",
              "2                           CrossFire  ...        Smilegate / Tencent\n",
              "3              Dungeon Fighter Online  ...            Nexon / Tencent\n",
              "4   QQ Speed / GKART / Speed Drifters  ...           Tencent / Garena\n",
              "..                                ...  ...                        ...\n",
              "95                        Free Realms  ...  Sony Online Entertainment\n",
              "96                               H1Z1  ...      Daybreak Game Company\n",
              "97                          Robocraft  ...              Freejam Games\n",
              "98              Ark: Survival Evolved  ...            Studio Wildcard\n",
              "99       Star Wars Jedi: Fallen Order  ...            Electronic Arts\n",
              "\n",
              "[100 rows x 6 columns]"
            ]
          },
          "metadata": {
            "tags": []
          },
          "execution_count": 72
        }
      ]
    },
    {
      "cell_type": "code",
      "metadata": {
        "id": "5zqDseFCqfbn"
      },
      "source": [
        "Df.columns = Df.iloc[0]\n",
        "Df = Df.iloc[1:]"
      ],
      "execution_count": null,
      "outputs": []
    },
    {
      "cell_type": "code",
      "metadata": {
        "colab": {
          "base_uri": "https://localhost:8080/",
          "height": 419
        },
        "id": "rHMNnhMTrD9v",
        "outputId": "fec5f859-cd4f-468a-8028-17e28b5e15f0"
      },
      "source": [
        "Df"
      ],
      "execution_count": null,
      "outputs": [
        {
          "output_type": "execute_result",
          "data": {
            "text/html": [
              "<div>\n",
              "<style scoped>\n",
              "    .dataframe tbody tr th:only-of-type {\n",
              "        vertical-align: middle;\n",
              "    }\n",
              "\n",
              "    .dataframe tbody tr th {\n",
              "        vertical-align: top;\n",
              "    }\n",
              "\n",
              "    .dataframe thead th {\n",
              "        text-align: right;\n",
              "    }\n",
              "</style>\n",
              "<table border=\"1\" class=\"dataframe\">\n",
              "  <thead>\n",
              "    <tr style=\"text-align: right;\">\n",
              "      <th></th>\n",
              "      <th>Game</th>\n",
              "      <th>Number</th>\n",
              "      <th>As of</th>\n",
              "      <th>Business model</th>\n",
              "      <th>Release date</th>\n",
              "      <th>Publisher(s)</th>\n",
              "    </tr>\n",
              "  </thead>\n",
              "  <tbody>\n",
              "    <tr>\n",
              "      <th>1</th>\n",
              "      <td>PlayerUnknown's Battlegrounds</td>\n",
              "      <td>1,037 million[a]</td>\n",
              "      <td>March 2021</td>\n",
              "      <td>Pay-to-play/free-to-play</td>\n",
              "      <td>December 20, 2017</td>\n",
              "      <td>Krafton / Tencent</td>\n",
              "    </tr>\n",
              "    <tr>\n",
              "      <th>2</th>\n",
              "      <td>CrossFire</td>\n",
              "      <td>1,000 million</td>\n",
              "      <td>February 2020</td>\n",
              "      <td>Free-to-play</td>\n",
              "      <td>May 3, 2007</td>\n",
              "      <td>Smilegate / Tencent</td>\n",
              "    </tr>\n",
              "    <tr>\n",
              "      <th>3</th>\n",
              "      <td>Dungeon Fighter Online</td>\n",
              "      <td>700 million</td>\n",
              "      <td>May 2020</td>\n",
              "      <td>Free-to-play</td>\n",
              "      <td>August 2005</td>\n",
              "      <td>Nexon / Tencent</td>\n",
              "    </tr>\n",
              "    <tr>\n",
              "      <th>4</th>\n",
              "      <td>QQ Speed / GKART / Speed Drifters</td>\n",
              "      <td>700 million[a]</td>\n",
              "      <td>January 2020</td>\n",
              "      <td>Free-to-play</td>\n",
              "      <td>January 23, 2008</td>\n",
              "      <td>Tencent / Garena</td>\n",
              "    </tr>\n",
              "    <tr>\n",
              "      <th>5</th>\n",
              "      <td>Minecraft</td>\n",
              "      <td>600 million[a][c]</td>\n",
              "      <td>November 2020</td>\n",
              "      <td>Pay-to-play/free-to-play</td>\n",
              "      <td>November 18, 2011</td>\n",
              "      <td>Mojang / NetEase[c]</td>\n",
              "    </tr>\n",
              "    <tr>\n",
              "      <th>...</th>\n",
              "      <td>...</td>\n",
              "      <td>...</td>\n",
              "      <td>...</td>\n",
              "      <td>...</td>\n",
              "      <td>...</td>\n",
              "      <td>...</td>\n",
              "    </tr>\n",
              "    <tr>\n",
              "      <th>95</th>\n",
              "      <td>Free Realms</td>\n",
              "      <td>10 million registered accounts</td>\n",
              "      <td>April 2018</td>\n",
              "      <td>Free-to-play</td>\n",
              "      <td>April 28, 2009</td>\n",
              "      <td>Sony Online Entertainment</td>\n",
              "    </tr>\n",
              "    <tr>\n",
              "      <th>96</th>\n",
              "      <td>H1Z1</td>\n",
              "      <td>10 million</td>\n",
              "      <td>June 2018</td>\n",
              "      <td>Free-to-play</td>\n",
              "      <td>February 28, 2018</td>\n",
              "      <td>Daybreak Game Company</td>\n",
              "    </tr>\n",
              "    <tr>\n",
              "      <th>97</th>\n",
              "      <td>Robocraft</td>\n",
              "      <td>10 million owners on Steam[k]</td>\n",
              "      <td>July 2018</td>\n",
              "      <td>Free-to-play</td>\n",
              "      <td>August 24, 2017</td>\n",
              "      <td>Freejam Games</td>\n",
              "    </tr>\n",
              "    <tr>\n",
              "      <th>98</th>\n",
              "      <td>Ark: Survival Evolved</td>\n",
              "      <td>10 million[a]</td>\n",
              "      <td>November 2017</td>\n",
              "      <td>Pay-to-play</td>\n",
              "      <td>August 29, 2017</td>\n",
              "      <td>Studio Wildcard</td>\n",
              "    </tr>\n",
              "    <tr>\n",
              "      <th>99</th>\n",
              "      <td>Star Wars Jedi: Fallen Order</td>\n",
              "      <td>10 million</td>\n",
              "      <td>May 2020</td>\n",
              "      <td>Pay-to-play</td>\n",
              "      <td>November 15, 2019</td>\n",
              "      <td>Electronic Arts</td>\n",
              "    </tr>\n",
              "  </tbody>\n",
              "</table>\n",
              "<p>99 rows × 6 columns</p>\n",
              "</div>"
            ],
            "text/plain": [
              "0                                Game  ...               Publisher(s)\n",
              "1       PlayerUnknown's Battlegrounds  ...          Krafton / Tencent\n",
              "2                           CrossFire  ...        Smilegate / Tencent\n",
              "3              Dungeon Fighter Online  ...            Nexon / Tencent\n",
              "4   QQ Speed / GKART / Speed Drifters  ...           Tencent / Garena\n",
              "5                           Minecraft  ...        Mojang / NetEase[c]\n",
              "..                                ...  ...                        ...\n",
              "95                        Free Realms  ...  Sony Online Entertainment\n",
              "96                               H1Z1  ...      Daybreak Game Company\n",
              "97                          Robocraft  ...              Freejam Games\n",
              "98              Ark: Survival Evolved  ...            Studio Wildcard\n",
              "99       Star Wars Jedi: Fallen Order  ...            Electronic Arts\n",
              "\n",
              "[99 rows x 6 columns]"
            ]
          },
          "metadata": {
            "tags": []
          },
          "execution_count": 74
        }
      ]
    },
    {
      "cell_type": "code",
      "metadata": {
        "id": "ibrgfq1FrE0v"
      },
      "source": [
        "Df.to_csv('games.csv')"
      ],
      "execution_count": null,
      "outputs": []
    },
    {
      "cell_type": "code",
      "metadata": {
        "id": "Ett5KGNes8Tm"
      },
      "source": [
        ""
      ],
      "execution_count": null,
      "outputs": []
    }
  ]
}